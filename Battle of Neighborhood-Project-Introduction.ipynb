{
 "cells": [
  {
   "cell_type": "markdown",
   "metadata": {},
   "source": [
    "# **Battle of Neighborhoods**"
   ]
  },
  {
   "cell_type": "markdown",
   "metadata": {},
   "source": [
    "### **Project Description:** \n",
    "Whenever people move to any other place, they explore the place and try to fetch as much information as possible about it. It can be the neighborhood, locality, market, price of the place and many more factors including neighborhood analysis. This is can be termed as request for a search algorithm which usually returns the requested features such as population rate, median house price, school ratings, crime rates, weather conditions, recreational facilities etc. <br>\n",
    "\n",
    "It would be beneficial and nice to have an application which could make easy by considering a comparative analysis between the neighborhood with provided factors.<br>\n",
    "\n",
    "This project helps the end user or the stakeholder to achieve the results which will not only recommend but also saves a lot of time in manual search. This will indeed save the time and money of the user. <br>\n",
    "\n",
    "This project can be used by the user at the time of rental apartment or buy house in a locality based on the distribution of various facilities available around the neighborhood. As an example, this project would compare 2 randomly picked neighborhoods and analyses the top 10 most common venues in each of those two neighborhoods based on the number of visits by people in each of those places. Also, this project uses K-mean clustering unsupervised machine learning algorithm to cluster the venues based on the place category such as restaurants, park, coffee shop, gym, clubs etc. This would give a better understanding of the similarities and dissimilarities between the two chosen neighborhoods to retrieve more insights and to conclude with ease which neighborhood wins over other.\n"
   ]
  },
  {
   "cell_type": "markdown",
   "metadata": {},
   "source": [
    "### **Data Sets and APIs:**\n",
    "\n",
    "• Foursquare API:<br>\n",
    "This API has a database of more than 105 million places. This project would use Four-square API as its prime data gathering source. Many organizations are using to geo-tag their photos with detailed info about a destination, while also serving up contextually relevant locations for those who are searching for a place to eat, drink or explore. This API provides the ability to perform location search, location sharing and details about a business. Foursquare users can also use photos, tips and reviews in many productive ways to add value to the results.\n",
    "\n",
    "![Alt text](Chicago_latlang.JPG)\n",
    "\n",
    "\n",
    "\n",
    "• Work Flow:<br> \n",
    "HTTP requests would be made to this Foursquare API server using zip codes of the Chicago city neighborhoods to pull the location information (Latitude and Longitude).Foursquare API search feature would be enabled to collect the nearby places of the neighborhoods. Due to http request limitations the number of places per neighborhood parameter would reasonably be set to 100 and the radius parameter would be set to 700.\n",
    "\n",
    "![Alt text](Chicago_FourSquareAPI.JPG)\n",
    "\n",
    "• Folium- Python visualization library would be used to visualize the neighborhoods cluster distribution of Chicago city over an interactive leaflet map.Extensive comparative analysis of two randomly picked neighborhoods world be carried out to derive the desirable insights from the outcomes using python’s scientific libraries Pandas, NumPy and Scikit-learn.<br>\n",
    "\n",
    "• Unsupervised machine learning algorithm K-mean clustering would be applied to form the clusters of different categories of places residing in and around the neighborhoods. These clusters from each of those two chosen neighborhoods would be analyzed individually collectively and comparatively to derive the conclusions.\n"
   ]
  },
  {
   "cell_type": "markdown",
   "metadata": {},
   "source": [
    "### **Python packages and Dependencies:**\n",
    "• Pandas - Library for Data Analysis <br>\n",
    "• NumPy – Library to handle data in a vectorized manner<br>\n",
    "• JSON – Library to handle JSON files <br>\n",
    "• Geopy – To retrieve Location Data <br>\n",
    "• Requests – Library to handle http requests<br>\n",
    " • Matplotlib – Python Plotting Module <br>\n",
    "• Sklearn – Python machine learning Library <br>\n",
    "• Folium – Map rendering Library<br>\n"
   ]
  }
 ],
 "metadata": {
  "kernelspec": {
   "display_name": "Python 3",
   "language": "python",
   "name": "python3"
  },
  "language_info": {
   "codemirror_mode": {
    "name": "ipython",
    "version": 3
   },
   "file_extension": ".py",
   "mimetype": "text/x-python",
   "name": "python",
   "nbconvert_exporter": "python",
   "pygments_lexer": "ipython3",
   "version": "3.6.6"
  }
 },
 "nbformat": 4,
 "nbformat_minor": 2
}